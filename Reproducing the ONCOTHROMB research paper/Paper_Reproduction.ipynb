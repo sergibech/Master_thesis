{
 "cells": [
  {
   "cell_type": "markdown",
   "id": "9984673c",
   "metadata": {},
   "source": [
    "# Paper Reproduction"
   ]
  },
  {
   "cell_type": "markdown",
   "id": "9bdf590d",
   "metadata": {},
   "source": [
    "This notebook includes the code required to replicate the first experiment of my master's thesis. We utilized Python to reproduce the Oncothromb paper and introduced a novel approach for computing the p-values through permutation testing."
   ]
  },
  {
   "cell_type": "code",
   "execution_count": 51,
   "id": "d70dbd06",
   "metadata": {},
   "outputs": [],
   "source": [
    "import numpy as np\n",
    "import pandas as pd\n",
    "import seaborn as sns\n",
    "import matplotlib.pyplot as plt\n",
    "import re\n",
    "from sklearn.metrics import roc_auc_score, confusion_matrix, precision_score"
   ]
  },
  {
   "cell_type": "code",
   "execution_count": 52,
   "id": "b9a5edfe",
   "metadata": {},
   "outputs": [],
   "source": [
    "df_alleles = pd.read_csv('oncoth1_with_n_risk_alleles.csv')"
   ]
  },
  {
   "cell_type": "code",
   "execution_count": 53,
   "id": "e8f85ceb",
   "metadata": {},
   "outputs": [],
   "source": [
    "df = pd.read_csv('development_db_score_oncothromb.csv')"
   ]
  },
  {
   "cell_type": "code",
   "execution_count": 54,
   "id": "25b46dae",
   "metadata": {},
   "outputs": [],
   "source": [
    "df_alleles['VTE'] = df['VTE'].values"
   ]
  },
  {
   "cell_type": "markdown",
   "id": "1d45ba2e",
   "metadata": {},
   "source": [
    "## Development of the genetic risk score (GRS)"
   ]
  },
  {
   "cell_type": "markdown",
   "id": "46b2af7b",
   "metadata": {},
   "source": [
    "### Compute p-values using statsmodel"
   ]
  },
  {
   "cell_type": "code",
   "execution_count": 55,
   "id": "8fb02f40",
   "metadata": {},
   "outputs": [],
   "source": [
    "import pandas as pd\n",
    "import statsmodels.api as sm\n",
    "\n",
    "def compute_model_stats(df):\n",
    "    \"\"\"\n",
    "    Computes model statistics for genetic features in a DataFrame.\n",
    "\n",
    "    Args:\n",
    "        df (pandas.DataFrame): The input DataFrame containing genetic features.\n",
    "\n",
    "    Returns:\n",
    "        dict: A dictionary containing the p-values of logistic regression models for each genetic feature.\n",
    "    \"\"\"\n",
    "    # Obtain the genetic features rs*\n",
    "    df_gen = pd.concat([df['VTE'], df.iloc[:, 21:]], axis=1)\n",
    "    cols_names_gen = df_gen.columns[1:]\n",
    "    model_stats_pvalues = {}\n",
    "\n",
    "    for element in cols_names_gen:\n",
    "        # Drop NaN rows.\n",
    "        df_pred = df_gen[['VTE', element]].dropna()\n",
    "        # Get one hot encoding\n",
    "        X = pd.get_dummies(df_pred[element]).values\n",
    "        y = df_pred['VTE'].values\n",
    "        # Fit the logistic regression model\n",
    "        logit_model = sm.Logit(y, X).fit()\n",
    "        # Store the p-value of the model in the dictionary\n",
    "        model_stats_pvalues[element] = logit_model.llr_pvalue\n",
    "\n",
    "    return model_stats_pvalues"
   ]
  },
  {
   "cell_type": "code",
   "execution_count": 56,
   "id": "72b96334",
   "metadata": {},
   "outputs": [
    {
     "name": "stdout",
     "output_type": "stream",
     "text": [
      "Optimization terminated successfully.\n",
      "         Current function value: 0.481683\n",
      "         Iterations 6\n",
      "Optimization terminated successfully.\n",
      "         Current function value: 0.505025\n",
      "         Iterations 6\n",
      "Warning: Maximum number of iterations has been exceeded.\n",
      "         Current function value: 0.482687\n",
      "         Iterations: 35\n",
      "Optimization terminated successfully.\n",
      "         Current function value: 0.482399\n",
      "         Iterations 6\n",
      "Optimization terminated successfully.\n",
      "         Current function value: 0.482802\n",
      "         Iterations 5\n",
      "Optimization terminated successfully.\n",
      "         Current function value: 0.478712\n",
      "         Iterations 5\n",
      "Warning: Maximum number of iterations has been exceeded.\n",
      "         Current function value: 0.482983\n",
      "         Iterations: 35\n",
      "Optimization terminated successfully.\n",
      "         Current function value: 0.480679\n",
      "         Iterations 5\n",
      "Warning: Maximum number of iterations has been exceeded.\n",
      "         Current function value: 0.481041\n",
      "         Iterations: 35\n",
      "Optimization terminated successfully.\n",
      "         Current function value: 0.482107\n",
      "         Iterations 5\n",
      "Optimization terminated successfully.\n",
      "         Current function value: 0.481134\n",
      "         Iterations 5\n",
      "Warning: Maximum number of iterations has been exceeded.\n",
      "         Current function value: 0.481313\n",
      "         Iterations: 35\n"
     ]
    },
    {
     "name": "stderr",
     "output_type": "stream",
     "text": [
      "C:\\Users\\SergiBech\\anaconda3\\lib\\site-packages\\statsmodels\\base\\model.py:604: ConvergenceWarning: Maximum Likelihood optimization failed to converge. Check mle_retvals\n",
      "  warnings.warn(\"Maximum Likelihood optimization failed to \"\n",
      "C:\\Users\\SergiBech\\anaconda3\\lib\\site-packages\\statsmodels\\base\\model.py:604: ConvergenceWarning: Maximum Likelihood optimization failed to converge. Check mle_retvals\n",
      "  warnings.warn(\"Maximum Likelihood optimization failed to \"\n",
      "C:\\Users\\SergiBech\\anaconda3\\lib\\site-packages\\statsmodels\\base\\model.py:604: ConvergenceWarning: Maximum Likelihood optimization failed to converge. Check mle_retvals\n",
      "  warnings.warn(\"Maximum Likelihood optimization failed to \"\n",
      "C:\\Users\\SergiBech\\anaconda3\\lib\\site-packages\\statsmodels\\base\\model.py:604: ConvergenceWarning: Maximum Likelihood optimization failed to converge. Check mle_retvals\n",
      "  warnings.warn(\"Maximum Likelihood optimization failed to \"\n"
     ]
    },
    {
     "name": "stdout",
     "output_type": "stream",
     "text": [
      "Optimization terminated successfully.\n",
      "         Current function value: 0.474972\n",
      "         Iterations 7\n",
      "Optimization terminated successfully.\n",
      "         Current function value: 0.469187\n",
      "         Iterations 21\n",
      "Optimization terminated successfully.\n",
      "         Current function value: 0.472833\n",
      "         Iterations 5\n",
      "Optimization terminated successfully.\n",
      "         Current function value: 0.475480\n",
      "         Iterations 5\n",
      "Optimization terminated successfully.\n",
      "         Current function value: 0.469495\n",
      "         Iterations 6\n",
      "Optimization terminated successfully.\n",
      "         Current function value: 0.473652\n",
      "         Iterations 6\n",
      "Optimization terminated successfully.\n",
      "         Current function value: 0.475916\n",
      "         Iterations 5\n",
      "Optimization terminated successfully.\n",
      "         Current function value: 0.476166\n",
      "         Iterations 5\n",
      "Optimization terminated successfully.\n",
      "         Current function value: 0.477092\n",
      "         Iterations 6\n",
      "Optimization terminated successfully.\n",
      "         Current function value: 0.473951\n",
      "         Iterations 6\n",
      "Warning: Maximum number of iterations has been exceeded.\n",
      "         Current function value: 0.472028\n",
      "         Iterations: 35\n",
      "Optimization terminated successfully.\n",
      "         Current function value: 0.474763\n",
      "         Iterations 5\n",
      "Optimization terminated successfully.\n",
      "         Current function value: 0.477059\n",
      "         Iterations 5\n"
     ]
    },
    {
     "name": "stderr",
     "output_type": "stream",
     "text": [
      "C:\\Users\\SergiBech\\anaconda3\\lib\\site-packages\\statsmodels\\base\\model.py:604: ConvergenceWarning: Maximum Likelihood optimization failed to converge. Check mle_retvals\n",
      "  warnings.warn(\"Maximum Likelihood optimization failed to \"\n",
      "C:\\Users\\SergiBech\\anaconda3\\lib\\site-packages\\statsmodels\\base\\model.py:604: ConvergenceWarning: Maximum Likelihood optimization failed to converge. Check mle_retvals\n",
      "  warnings.warn(\"Maximum Likelihood optimization failed to \"\n"
     ]
    },
    {
     "name": "stdout",
     "output_type": "stream",
     "text": [
      "Optimization terminated successfully.\n",
      "         Current function value: 0.476035\n",
      "         Iterations 5\n",
      "Optimization terminated successfully.\n",
      "         Current function value: 0.466487\n",
      "         Iterations 6\n",
      "Optimization terminated successfully.\n",
      "         Current function value: 0.474887\n",
      "         Iterations 6\n",
      "Optimization terminated successfully.\n",
      "         Current function value: 0.480559\n",
      "         Iterations 6\n",
      "Optimization terminated successfully.\n",
      "         Current function value: 0.475044\n",
      "         Iterations 6\n",
      "Optimization terminated successfully.\n",
      "         Current function value: 0.473669\n",
      "         Iterations 6\n",
      "Optimization terminated successfully.\n",
      "         Current function value: 0.476221\n",
      "         Iterations 5\n",
      "Optimization terminated successfully.\n",
      "         Current function value: 0.481489\n",
      "         Iterations 6\n",
      "Warning: Maximum number of iterations has been exceeded.\n",
      "         Current function value: 0.468639\n",
      "         Iterations: 35\n",
      "Optimization terminated successfully.\n",
      "         Current function value: 0.473315\n",
      "         Iterations 5\n",
      "Warning: Maximum number of iterations has been exceeded.\n",
      "         Current function value: 0.478367\n",
      "         Iterations: 35\n",
      "Optimization terminated successfully.\n",
      "         Current function value: 0.475454\n",
      "         Iterations 5\n",
      "Optimization terminated successfully.\n",
      "         Current function value: 0.471595\n",
      "         Iterations 6\n",
      "Optimization terminated successfully.\n",
      "         Current function value: 0.472882\n",
      "         Iterations 5\n"
     ]
    },
    {
     "name": "stderr",
     "output_type": "stream",
     "text": [
      "C:\\Users\\SergiBech\\anaconda3\\lib\\site-packages\\statsmodels\\base\\model.py:604: ConvergenceWarning: Maximum Likelihood optimization failed to converge. Check mle_retvals\n",
      "  warnings.warn(\"Maximum Likelihood optimization failed to \"\n",
      "C:\\Users\\SergiBech\\anaconda3\\lib\\site-packages\\statsmodels\\base\\model.py:604: ConvergenceWarning: Maximum Likelihood optimization failed to converge. Check mle_retvals\n",
      "  warnings.warn(\"Maximum Likelihood optimization failed to \"\n"
     ]
    },
    {
     "name": "stdout",
     "output_type": "stream",
     "text": [
      "Optimization terminated successfully.\n",
      "         Current function value: 0.475912\n",
      "         Iterations 5\n",
      "Optimization terminated successfully.\n",
      "         Current function value: 0.473779\n",
      "         Iterations 5\n",
      "Optimization terminated successfully.\n",
      "         Current function value: 0.477797\n",
      "         Iterations 5\n",
      "Optimization terminated successfully.\n",
      "         Current function value: 0.475975\n",
      "         Iterations 6\n",
      "Optimization terminated successfully.\n",
      "         Current function value: 0.474576\n",
      "         Iterations 6\n",
      "Warning: Maximum number of iterations has been exceeded.\n",
      "         Current function value: 0.458863\n",
      "         Iterations: 35\n",
      "Optimization terminated successfully.\n",
      "         Current function value: 0.473963\n",
      "         Iterations 28\n",
      "Optimization terminated successfully.\n",
      "         Current function value: 0.477771\n",
      "         Iterations 5\n",
      "Optimization terminated successfully.\n",
      "         Current function value: 0.474633\n",
      "         Iterations 6\n",
      "Optimization terminated successfully.\n",
      "         Current function value: 0.475825\n",
      "         Iterations 5\n",
      "Optimization terminated successfully.\n",
      "         Current function value: 0.474660\n",
      "         Iterations 5\n",
      "Optimization terminated successfully.\n",
      "         Current function value: 0.480439\n",
      "         Iterations 5\n",
      "Optimization terminated successfully.\n",
      "         Current function value: 0.481517\n",
      "         Iterations 5\n",
      "Optimization terminated successfully.\n",
      "         Current function value: 0.470357\n",
      "         Iterations 6\n",
      "Optimization terminated successfully.\n",
      "         Current function value: 0.478310\n",
      "         Iterations 5\n"
     ]
    }
   ],
   "source": [
    "model_stats_pvalues = compute_model_stats(df)"
   ]
  },
  {
   "cell_type": "markdown",
   "id": "76e89a1a",
   "metadata": {},
   "source": [
    "### Compute p-values using permutation test"
   ]
  },
  {
   "cell_type": "code",
   "execution_count": 57,
   "id": "ce402e0d",
   "metadata": {},
   "outputs": [],
   "source": [
    "from sklearn.linear_model import LogisticRegression\n",
    "from sklearn.metrics import roc_auc_score\n",
    "import numpy as np\n",
    "\n",
    "def compute_p_values(df):\n",
    "    \"\"\"\n",
    "    Computes p-values and selects genetic variables based on logistic regression and permutation test.\n",
    "\n",
    "    Args:\n",
    "        df (pandas.DataFrame): The input DataFrame containing genetic features and the target variable.\n",
    "\n",
    "    Returns:\n",
    "        tuple: A tuple containing two dictionaries: p-values of all variables and selected genetic variables.\n",
    "    \"\"\"\n",
    "    p_values_gen = {}  # Store p-values of all variables\n",
    "    selected_predictors_gen = {}  # Store selected genetic variables\n",
    "\n",
    "    for element in cols_names_gen:  # Iterate each feature\n",
    "        df_pred = df_gen[['VTE', element]].dropna()\n",
    "        X = pd.get_dummies(df_pred[element])  # Get one hot encoding\n",
    "        y = df_pred['VTE']\n",
    "\n",
    "        # Train a logistic regression model\n",
    "        model = LogisticRegression()\n",
    "        model.fit(X, y)\n",
    "\n",
    "        # Compute the AUC-ROC score for the observed data\n",
    "        y_pred = model.predict_proba(X)[:, 1]\n",
    "        auc_obs = roc_auc_score(y, y_pred)\n",
    "\n",
    "        # Perform the permutation test\n",
    "        n_permutations = 1000\n",
    "        auc_permuted = np.empty(n_permutations)\n",
    "\n",
    "        for i in range(n_permutations):\n",
    "            y_permuted = np.random.permutation(y)\n",
    "            # Re-fit with permuted labels\n",
    "            model.fit(X, y_permuted)\n",
    "            y_pred_permuted = model.predict_proba(X)[:, 1]\n",
    "            auc_permuted[i] = roc_auc_score(y_permuted, y_pred_permuted)\n",
    "\n",
    "        # Calculate the p-value\n",
    "        p_value = np.sum(auc_permuted >= auc_obs) / n_permutations\n",
    "        p_values_gen[element] = p_value\n",
    "\n",
    "        if p_value <= 0.250:\n",
    "            selected_predictors_gen[element] = p_value\n",
    "        # Paper says to add this genetic feature\n",
    "        elif element == 'rs6025':\n",
    "            selected_predictors_gen[element] = p_value\n",
    "\n",
    "        # Print the p-value\n",
    "        # print('p-value of ' + element + ': ' + str(p_value))\n",
    "\n",
    "    return p_values_gen, selected_predictors_gen"
   ]
  },
  {
   "cell_type": "code",
   "execution_count": 58,
   "id": "ebdae255",
   "metadata": {},
   "outputs": [],
   "source": [
    "p_values_gen, selected_predictors_gen = compute_p_values(df)"
   ]
  },
  {
   "cell_type": "markdown",
   "id": "c6fdbb23",
   "metadata": {},
   "source": [
    "### Plot a comparison between both methods"
   ]
  },
  {
   "cell_type": "code",
   "execution_count": 59,
   "id": "de335ce2",
   "metadata": {
    "scrolled": true
   },
   "outputs": [
    {
     "data": {
      "image/png": "[encoded data removed]",
      "text/plain": [
       "<Figure size 864x576 with 1 Axes>"
      ]
     },
     "metadata": {
      "needs_background": "light"
     },
     "output_type": "display_data"
    }
   ],
   "source": [
    "# set width of bar\n",
    "barWidth = 0.35\n",
    "fig = plt.subplots(figsize =(12, 8))\n",
    "\n",
    "# Set position of bar on X axis\n",
    "br1 = np.arange(len(p_values_gen))\n",
    "br2 = [x + barWidth for x in br1]\n",
    " \n",
    "# Make the plot\n",
    "plt.bar(br1, p_values_gen.values(), color ='orange', width = barWidth,\n",
    "        edgecolor ='grey', label ='Permutation Test')\n",
    "plt.bar(br2, model_stats_pvalues.values(), color ='blue', width = barWidth,\n",
    "        edgecolor ='grey', label ='Model Stats')\n",
    "\n",
    "# Adding Xticks\n",
    "plt.xlabel('Genetic features', fontweight ='bold', fontsize = 15)\n",
    "plt.ylabel('P-Value', fontweight ='bold', fontsize = 15)\n",
    "\n",
    "plt.axhline(y = 0.250, color = 'black', linestyle = '-')\n",
    "plt.legend()\n",
    "\n",
    "plt.savefig('pvalues.png', dpi=300)\n",
    "\n",
    "plt.show()"
   ]
  },
  {
   "cell_type": "markdown",
   "id": "6fe0634e",
   "metadata": {},
   "source": [
    "# Compute Genetic Risk Score"
   ]
  },
  {
   "cell_type": "markdown",
   "id": "32039111",
   "metadata": {},
   "source": [
    "We compute the Genetic Risk Score with the selected features.\n",
    "A straightforward method to evaluate the GRS is to choose a number k of independent genetic variants with strong (i.e., genome-wide significance in other studies or datasets) association as risk predictors, and to calculate the GRS as the sum of the effect estimates (log odds ratios), βi, from a logistic regression analysis with additive genetic effect, multiplied by the number of risk alleles, Ni, for each locus: "
   ]
  },
  {
   "cell_type": "code",
   "execution_count": 60,
   "id": "4b42c47f",
   "metadata": {},
   "outputs": [],
   "source": [
    "# We remove rs8176719 because have many NULL elements\n",
    "selected_predictors_gen.pop('rs8176719')\n",
    "gen_predictors = list(selected_predictors_gen.keys())"
   ]
  },
  {
   "cell_type": "code",
   "execution_count": 61,
   "id": "02a29bd3",
   "metadata": {},
   "outputs": [],
   "source": [
    "#Select the risk alleles of the selected features\n",
    "alleles_ = []\n",
    "for element in gen_predictors:\n",
    "    alleles_.append(element + '_n_risk_alleles')\n",
    "alleles_.append('VTE')\n",
    "alleles_.append('id')\n",
    "df_alleles = df_alleles[alleles_].dropna()"
   ]
  },
  {
   "cell_type": "markdown",
   "id": "847858ee",
   "metadata": {},
   "source": [
    "### Compute GRS"
   ]
  },
  {
   "cell_type": "code",
   "execution_count": 62,
   "id": "f903ee3d",
   "metadata": {},
   "outputs": [],
   "source": [
    "from sklearn.linear_model import LogisticRegression\n",
    "\n",
    "y = df_alleles['VTE']\n",
    "X = df_alleles.drop(columns=['VTE', 'id'])\n",
    "\n",
    "model = LogisticRegression(fit_intercept = True)\n",
    "model.fit(X, y)\n",
    "\n",
    "GRS = (model.coef_ * X).sum(axis=1) + model.intercept_\n",
    "df_alleles['GRS'] = GRS"
   ]
  },
  {
   "cell_type": "code",
   "execution_count": 63,
   "id": "dcae7aff",
   "metadata": {},
   "outputs": [
    {
     "data": {
      "text/plain": [
       "(array([ 1.,  4., 40., 53., 92., 87., 40., 23., 11.,  5.]),\n",
       " array([-3.59490463, -3.1902164 , -2.78552817, -2.38083994, -1.97615171,\n",
       "        -1.57146348, -1.16677525, -0.76208703, -0.3573988 ,  0.04728943,\n",
       "         0.45197766]),\n",
       " <BarContainer object of 10 artists>)"
      ]
     },
     "execution_count": 63,
     "metadata": {},
     "output_type": "execute_result"
    },
    {
     "data": {
      "image/png": "[encoded data removed]",
      "text/plain": [
       "<Figure size 432x288 with 1 Axes>"
      ]
     },
     "metadata": {
      "needs_background": "light"
     },
     "output_type": "display_data"
    }
   ],
   "source": [
    "plt.hist(df_alleles['GRS'])"
   ]
  },
  {
   "cell_type": "markdown",
   "id": "8e726201",
   "metadata": {},
   "source": [
    "## Clinical Variables"
   ]
  },
  {
   "cell_type": "markdown",
   "id": "8eb4726b",
   "metadata": {},
   "source": [
    "- very high risk -> stomach, pancreas\n",
    "- high risk -> lung, lymphoma, gynelocoligal, blader, testicular\n",
    "- low risk -> colorectal\n",
    "- platelet count >= 350x10^9/L -> high risk\n",
    "- leukocyte count >= 11x10^9/L -> high risk"
   ]
  },
  {
   "cell_type": "code",
   "execution_count": 64,
   "id": "1355ae12",
   "metadata": {},
   "outputs": [],
   "source": [
    "import re\n",
    "\n",
    "def map_column(row, clinical_dict):\n",
    "    \"\"\"\n",
    "    Maps a given row to a clinical category based on a dictionary of patterns.\n",
    "\n",
    "    Args:\n",
    "        row (any): The input row to be mapped.\n",
    "        clinical_dict (dict): A dictionary containing patterns as keys and clinical categories as values.\n",
    "\n",
    "    Returns:\n",
    "        str: The mapped clinical category if a match is found, otherwise 'No Clasificado'.\n",
    "    \"\"\"\n",
    "    # Convert row to string\n",
    "    row = str(row)\n",
    "\n",
    "    # Iterate over key-value pairs in clinical_dict\n",
    "    for key, value in clinical_dict.items():\n",
    "        # Use re.match to check if the pattern in value[0] matches row\n",
    "        if re.match(value[0], row):\n",
    "            # Return the key if a match is found\n",
    "            return key\n",
    "    \n",
    "    # Return 'No Clasificado' if no match is found\n",
    "    return 'No Clasificado'"
   ]
  },
  {
   "cell_type": "code",
   "execution_count": 65,
   "id": "dc1da6b3",
   "metadata": {},
   "outputs": [],
   "source": [
    "def preprocess_clinical_features(df):\n",
    "    \"\"\"\n",
    "    Preprocesses the clinical features of a DataFrame.\n",
    "\n",
    "    Args:\n",
    "        df (pandas.DataFrame): The input DataFrame containing clinical features.\n",
    "\n",
    "    Returns:\n",
    "        pandas.DataFrame: The preprocessed DataFrame with modified clinical features.\n",
    "    \"\"\"\n",
    "    # Select the relevant columns from the DataFrame\n",
    "    df_clin = df.iloc[:, 1:21]\n",
    "\n",
    "    # Get the column names of the selected columns\n",
    "    cols_names_clin = df_clin.columns[1:]\n",
    "\n",
    "    # Map 'primary_tumor_simplified' values to numeric categories\n",
    "    df_clin.loc[df_clin['primary_tumor_simplified'] == 'Colorectal', 'primary_tumor_simplified'] = 0\n",
    "    df_clin.loc[df_clin['primary_tumor_simplified'] == 'NSCLC', 'primary_tumor_simplified'] = 1\n",
    "    df_clin.loc[df_clin['primary_tumor_simplified'] == 'Oesophago-gastric', 'primary_tumor_simplified'] = 2\n",
    "    df_clin.loc[df_clin['primary_tumor_simplified'] == 'Pancreatic', 'primary_tumor_simplified'] = 2\n",
    "\n",
    "    # Map 'leukocytes' values to binary categories\n",
    "    df_clin.loc[df_clin['leukocytes'] < 11000, 'leukocytes'] = 0\n",
    "    df_clin.loc[df_clin['leukocytes'] >= 11000, 'leukocytes'] = 1\n",
    "\n",
    "    # Map 'platelets' values to binary categories\n",
    "    df_clin.loc[df_clin['platelets'] < 350000, 'platelets'] = 0\n",
    "    df_clin.loc[df_clin['platelets'] >= 350000, 'platelets'] = 1\n",
    "\n",
    "    # Define the BMI risk dictionary\n",
    "    bmi_risk = {\n",
    "        1: [r\"(Obese: BMI > 30 kg/m2)|( Overweight: BMI ~25-29.9 Kg/m2)\"],\n",
    "        0: [r\"(Normal: BMI ~ 18.5-24.9 Kg/m2)|(Underweight: BMI < 18.5 Kg/m2)\"],\n",
    "    }\n",
    "\n",
    "    # Define the TNM stage detailed risk dictionary\n",
    "    tnm_stage_detailed_risk = {\n",
    "        1: [r\"(IA)|(IB)\"],\n",
    "        2: [r\"(IIB)|(IIA)|(IIC)\"],\n",
    "        3: [r\"(III)|(IIIB)|(IIIA)|(IIIC)\"],\n",
    "        4: [r\"(IVB)|(IVA)|(IV)\"],\n",
    "    }\n",
    "\n",
    "    # Apply the map_column function to 'bmi_category' and 'tnm_stage_detailed' columns\n",
    "    df_clin['bmi_category'] = df_clin['bmi_category'].apply(lambda x: map_column(x, bmi_risk))\n",
    "    df_clin['tnm_stage_detailed'] = df_clin['tnm_stage_detailed'].apply(lambda x: map_column(x, tnm_stage_detailed_risk))\n",
    "\n",
    "    return df_clin"
   ]
  },
  {
   "cell_type": "code",
   "execution_count": 66,
   "id": "f7279b07",
   "metadata": {},
   "outputs": [],
   "source": [
    "df_clin = preprocess_clinical_features(df)"
   ]
  },
  {
   "cell_type": "markdown",
   "id": "332a548c",
   "metadata": {},
   "source": [
    "### Compute selection of clinical variables following the paper"
   ]
  },
  {
   "cell_type": "code",
   "execution_count": 67,
   "id": "797abf2a",
   "metadata": {},
   "outputs": [],
   "source": [
    "# Drop the ones are not mentioned in the paper\n",
    "df_clin = df_clin.drop(['pregnancy', 'oral_contraceptives', 'hemoglobin','n_appointment_patient_became_case'], axis=1)\n",
    "df_clin['id'] = df['id'].values"
   ]
  },
  {
   "cell_type": "markdown",
   "id": "8a4b3c78",
   "metadata": {},
   "source": [
    "Multivariate logistic regression"
   ]
  },
  {
   "cell_type": "code",
   "execution_count": 68,
   "id": "6e904844",
   "metadata": {},
   "outputs": [
    {
     "name": "stdout",
     "output_type": "stream",
     "text": [
      "Optimization terminated successfully.\n",
      "         Current function value: 0.433244\n",
      "         Iterations 6\n"
     ]
    },
    {
     "data": {
      "text/html": [
       "<table class=\"simpletable\">\n",
       "<caption>Logit Regression Results</caption>\n",
       "<tr>\n",
       "  <th>Dep. Variable:</th>          <td>VTE</td>       <th>  No. Observations:  </th>  <td>   311</td> \n",
       "</tr>\n",
       "<tr>\n",
       "  <th>Model:</th>                 <td>Logit</td>      <th>  Df Residuals:      </th>  <td>   294</td> \n",
       "</tr>\n",
       "<tr>\n",
       "  <th>Method:</th>                 <td>MLE</td>       <th>  Df Model:          </th>  <td>    16</td> \n",
       "</tr>\n",
       "<tr>\n",
       "  <th>Date:</th>            <td>Mon, 19 Jun 2023</td> <th>  Pseudo R-squ.:     </th>  <td>0.09947</td>\n",
       "</tr>\n",
       "<tr>\n",
       "  <th>Time:</th>                <td>16:19:54</td>     <th>  Log-Likelihood:    </th> <td> -134.74</td>\n",
       "</tr>\n",
       "<tr>\n",
       "  <th>converged:</th>             <td>True</td>       <th>  LL-Null:           </th> <td> -149.62</td>\n",
       "</tr>\n",
       "<tr>\n",
       "  <th>Covariance Type:</th>     <td>nonrobust</td>    <th>  LLR p-value:       </th>  <td>0.01925</td>\n",
       "</tr>\n",
       "</table>\n",
       "<table class=\"simpletable\">\n",
       "<tr>\n",
       "                <td></td>                  <th>coef</th>     <th>std err</th>      <th>z</th>      <th>P>|z|</th>  <th>[0.025</th>    <th>0.975]</th>  \n",
       "</tr>\n",
       "<tr>\n",
       "  <th>khorana_risk_score</th>           <td>   -0.1983</td> <td>    0.565</td> <td>   -0.351</td> <td> 0.726</td> <td>   -1.306</td> <td>    0.909</td>\n",
       "</tr>\n",
       "<tr>\n",
       "  <th>tnm_stage_detailed</th>           <td>    0.6695</td> <td>    0.233</td> <td>    2.875</td> <td> 0.004</td> <td>    0.213</td> <td>    1.126</td>\n",
       "</tr>\n",
       "<tr>\n",
       "  <th>primary_tumor_simplified</th>     <td>    0.5707</td> <td>    0.583</td> <td>    0.978</td> <td> 0.328</td> <td>   -0.572</td> <td>    1.714</td>\n",
       "</tr>\n",
       "<tr>\n",
       "  <th>age_when_cancer_dx</th>           <td>    0.0058</td> <td>    0.017</td> <td>    0.348</td> <td> 0.728</td> <td>   -0.027</td> <td>    0.038</td>\n",
       "</tr>\n",
       "<tr>\n",
       "  <th>family_background_vte</th>        <td>    0.8849</td> <td>    0.645</td> <td>    1.372</td> <td> 0.170</td> <td>   -0.379</td> <td>    2.149</td>\n",
       "</tr>\n",
       "<tr>\n",
       "  <th>bmi_category</th>                 <td>    0.2049</td> <td>    0.330</td> <td>    0.622</td> <td> 0.534</td> <td>   -0.441</td> <td>    0.851</td>\n",
       "</tr>\n",
       "<tr>\n",
       "  <th>diabetes_mellitus</th>            <td>   -0.4796</td> <td>    0.403</td> <td>   -1.191</td> <td> 0.234</td> <td>   -1.269</td> <td>    0.310</td>\n",
       "</tr>\n",
       "<tr>\n",
       "  <th>dyslipidemia</th>                 <td>    0.4012</td> <td>    0.321</td> <td>    1.250</td> <td> 0.211</td> <td>   -0.228</td> <td>    1.030</td>\n",
       "</tr>\n",
       "<tr>\n",
       "  <th>leukocytes</th>                   <td>    0.2116</td> <td>    0.728</td> <td>    0.291</td> <td> 0.771</td> <td>   -1.216</td> <td>    1.639</td>\n",
       "</tr>\n",
       "<tr>\n",
       "  <th>platelets</th>                    <td>   -0.3316</td> <td>    0.708</td> <td>   -0.468</td> <td> 0.640</td> <td>   -1.719</td> <td>    1.056</td>\n",
       "</tr>\n",
       "<tr>\n",
       "  <th>arterial_hypertension</th>        <td>    0.0353</td> <td>    0.327</td> <td>    0.108</td> <td> 0.914</td> <td>   -0.607</td> <td>    0.677</td>\n",
       "</tr>\n",
       "<tr>\n",
       "  <th>previous_onco_surgery</th>        <td>   -0.2524</td> <td>    0.387</td> <td>   -0.653</td> <td> 0.514</td> <td>   -1.010</td> <td>    0.506</td>\n",
       "</tr>\n",
       "<tr>\n",
       "  <th>immobilisation</th>               <td>    0.0514</td> <td>    0.350</td> <td>    0.147</td> <td> 0.883</td> <td>   -0.635</td> <td>    0.738</td>\n",
       "</tr>\n",
       "<tr>\n",
       "  <th>tobacco_use_Active smoker</th>    <td>   -1.5870</td> <td> 9.63e+06</td> <td>-1.65e-07</td> <td> 1.000</td> <td>-1.89e+07</td> <td> 1.89e+07</td>\n",
       "</tr>\n",
       "<tr>\n",
       "  <th>tobacco_use_Former smoker</th>    <td>   -2.0325</td> <td> 9.63e+06</td> <td>-2.11e-07</td> <td> 1.000</td> <td>-1.89e+07</td> <td> 1.89e+07</td>\n",
       "</tr>\n",
       "<tr>\n",
       "  <th>tobacco_use_Never has smoked</th> <td>   -1.7491</td> <td> 9.63e+06</td> <td>-1.82e-07</td> <td> 1.000</td> <td>-1.89e+07</td> <td> 1.89e+07</td>\n",
       "</tr>\n",
       "<tr>\n",
       "  <th>gender_Female</th>                <td>   -2.5314</td> <td> 9.63e+06</td> <td>-2.63e-07</td> <td> 1.000</td> <td>-1.89e+07</td> <td> 1.89e+07</td>\n",
       "</tr>\n",
       "<tr>\n",
       "  <th>gender_Male</th>                  <td>   -2.8372</td> <td> 9.63e+06</td> <td>-2.95e-07</td> <td> 1.000</td> <td>-1.89e+07</td> <td> 1.89e+07</td>\n",
       "</tr>\n",
       "</table>"
      ],
      "text/plain": [
       "<class 'statsmodels.iolib.summary.Summary'>\n",
       "\"\"\"\n",
       "                           Logit Regression Results                           \n",
       "==============================================================================\n",
       "Dep. Variable:                    VTE   No. Observations:                  311\n",
       "Model:                          Logit   Df Residuals:                      294\n",
       "Method:                           MLE   Df Model:                           16\n",
       "Date:                Mon, 19 Jun 2023   Pseudo R-squ.:                 0.09947\n",
       "Time:                        16:19:54   Log-Likelihood:                -134.74\n",
       "converged:                       True   LL-Null:                       -149.62\n",
       "Covariance Type:            nonrobust   LLR p-value:                   0.01925\n",
       "================================================================================================\n",
       "                                   coef    std err          z      P>|z|      [0.025      0.975]\n",
       "------------------------------------------------------------------------------------------------\n",
       "khorana_risk_score              -0.1983      0.565     -0.351      0.726      -1.306       0.909\n",
       "tnm_stage_detailed               0.6695      0.233      2.875      0.004       0.213       1.126\n",
       "primary_tumor_simplified         0.5707      0.583      0.978      0.328      -0.572       1.714\n",
       "age_when_cancer_dx               0.0058      0.017      0.348      0.728      -0.027       0.038\n",
       "family_background_vte            0.8849      0.645      1.372      0.170      -0.379       2.149\n",
       "bmi_category                     0.2049      0.330      0.622      0.534      -0.441       0.851\n",
       "diabetes_mellitus               -0.4796      0.403     -1.191      0.234      -1.269       0.310\n",
       "dyslipidemia                     0.4012      0.321      1.250      0.211      -0.228       1.030\n",
       "leukocytes                       0.2116      0.728      0.291      0.771      -1.216       1.639\n",
       "platelets                       -0.3316      0.708     -0.468      0.640      -1.719       1.056\n",
       "arterial_hypertension            0.0353      0.327      0.108      0.914      -0.607       0.677\n",
       "previous_onco_surgery           -0.2524      0.387     -0.653      0.514      -1.010       0.506\n",
       "immobilisation                   0.0514      0.350      0.147      0.883      -0.635       0.738\n",
       "tobacco_use_Active smoker       -1.5870   9.63e+06  -1.65e-07      1.000   -1.89e+07    1.89e+07\n",
       "tobacco_use_Former smoker       -2.0325   9.63e+06  -2.11e-07      1.000   -1.89e+07    1.89e+07\n",
       "tobacco_use_Never has smoked    -1.7491   9.63e+06  -1.82e-07      1.000   -1.89e+07    1.89e+07\n",
       "gender_Female                   -2.5314   9.63e+06  -2.63e-07      1.000   -1.89e+07    1.89e+07\n",
       "gender_Male                     -2.8372   9.63e+06  -2.95e-07      1.000   -1.89e+07    1.89e+07\n",
       "================================================================================================\n",
       "\"\"\""
      ]
     },
     "execution_count": 68,
     "metadata": {},
     "output_type": "execute_result"
    }
   ],
   "source": [
    "df_clin_selection = df_clin.dropna()\n",
    "\n",
    "y = df_clin_selection['VTE']\n",
    "X = df_clin_selection.drop(['VTE', 'id'], axis=1)\n",
    "X = pd.get_dummies(X, columns = ['tobacco_use', 'gender']).astype(float)\n",
    "\n",
    "# Fit the logistic regression model\n",
    "logit_model = sm.Logit(y, X)\n",
    "result = logit_model.fit()\n",
    "result.summary()"
   ]
  },
  {
   "cell_type": "code",
   "execution_count": 69,
   "id": "400137a0",
   "metadata": {},
   "outputs": [
    {
     "name": "stdout",
     "output_type": "stream",
     "text": [
      "tnm_stage_detailed       0.004035\n",
      "family_background_vte    0.170028\n",
      "diabetes_mellitus        0.233771\n",
      "dyslipidemia             0.211222\n",
      "dtype: float64\n"
     ]
    }
   ],
   "source": [
    "pvals = result.pvalues\n",
    "pvals = pvals[pvals < 0.25]\n",
    "print(pvals)"
   ]
  },
  {
   "cell_type": "code",
   "execution_count": 70,
   "id": "5acfa158",
   "metadata": {},
   "outputs": [],
   "source": [
    "clin_predictors = ['tnm_stage_detailed', 'family_background_vte', 'diabetes_mellitus', 'dyslipidemia', 'id', 'VTE']"
   ]
  },
  {
   "cell_type": "markdown",
   "id": "be45474f",
   "metadata": {},
   "source": [
    "### Backwards analysis"
   ]
  },
  {
   "cell_type": "code",
   "execution_count": 71,
   "id": "7630989c",
   "metadata": {},
   "outputs": [],
   "source": [
    "import numpy as np\n",
    "\n",
    "def aic(model, X, y):\n",
    "    \"\"\"\n",
    "    Calculates the Akaike Information Criterion (AIC) for a logistic regression model.\n",
    "\n",
    "    Args:\n",
    "        model: The trained logistic regression model.\n",
    "        X: The input features.\n",
    "        y: The target variable.\n",
    "\n",
    "    Returns:\n",
    "        float: The AIC value.\n",
    "    \"\"\"\n",
    "    k = model.coef_.size\n",
    "    # calculate the predicted probabilities for each data point\n",
    "    pred_probs = model.predict_proba(X)\n",
    "    # calculate the log likelihood value\n",
    "    loglik = np.sum(y * np.log(pred_probs[:, 1]) + (1 - y) * np.log(1 - pred_probs[:, 1]))\n",
    "    # calculate the AIC value\n",
    "    aic_value = 2 * k - 2 * loglik\n",
    "    return aic_value"
   ]
  },
  {
   "cell_type": "code",
   "execution_count": 72,
   "id": "5f04e927",
   "metadata": {},
   "outputs": [],
   "source": [
    "df_GRS = df_alleles[['id','GRS']].reset_index(drop=True)\n",
    "pvals['GRS'] = 0.0001"
   ]
  },
  {
   "cell_type": "code",
   "execution_count": 73,
   "id": "f4d981b0",
   "metadata": {},
   "outputs": [],
   "source": [
    "#Merge the GRS and the clinical features using the patient id\n",
    "clinical_features = df_clin[clin_predictors].dropna()\n",
    "df_ft = df_GRS.merge(clinical_features, on='id')"
   ]
  },
  {
   "cell_type": "code",
   "execution_count": 74,
   "id": "89084d13",
   "metadata": {},
   "outputs": [],
   "source": [
    "from sklearn.linear_model import LogisticRegression\n",
    "import numpy as np\n",
    "\n",
    "def backward_selection_aic(df):\n",
    "    \"\"\"\n",
    "    Performs backward selection based on AIC (Akaike Information Criterion) for logistic regression.\n",
    "\n",
    "    Args:\n",
    "        df (pandas.DataFrame): The input DataFrame containing predictor variables and the outcome variable.\n",
    "\n",
    "    Returns:\n",
    "        dict: A dictionary containing AIC values for different subsets of predictor variables.\n",
    "    \"\"\"\n",
    "    aic_list = {}  # Store AIC values for different subsets of predictor variables\n",
    "\n",
    "    # Define the predictor variables and the outcome variable\n",
    "    y = df['VTE']\n",
    "    X = df.drop(columns=['VTE', 'id'])\n",
    "\n",
    "    model = LogisticRegression()\n",
    "    model.fit(X, y)\n",
    "\n",
    "    predictors = list(X.columns)\n",
    "    X_temp = X.copy()\n",
    "\n",
    "    full_aic = model.score(X, y) - 2 * len(predictors)\n",
    "    aic_list['all'] = full_aic\n",
    "\n",
    "    while len(predictors) != 1:\n",
    "        # Remove predictor with the highest p-value\n",
    "        max_value = max(pvals.items(), key=lambda x: x[1])\n",
    "        pvals.pop(max_value[0])\n",
    "        print(max_value)\n",
    "        predictors.remove(max_value[0])\n",
    "        X_temp = X[predictors]\n",
    "        model = LogisticRegression()\n",
    "        model.fit(X_temp, y)\n",
    "        aic_list[max_value[0]] = model.score(X_temp, y) - 2 * len(predictors)\n",
    "\n",
    "    return aic_list"
   ]
  },
  {
   "cell_type": "code",
   "execution_count": 75,
   "id": "45806cc9",
   "metadata": {},
   "outputs": [
    {
     "name": "stdout",
     "output_type": "stream",
     "text": [
      "('diabetes_mellitus', 0.23377052218837846)\n",
      "('dyslipidemia', 0.21122169959144477)\n",
      "('family_background_vte', 0.17002762271433913)\n",
      "('tnm_stage_detailed', 0.00403475202445113)\n"
     ]
    }
   ],
   "source": [
    "aic_list = backward_selection_aic(df_ft)"
   ]
  },
  {
   "cell_type": "code",
   "execution_count": 76,
   "id": "d049f837",
   "metadata": {},
   "outputs": [
    {
     "data": {
      "image/png": "[encoded data removed]",
      "text/plain": [
       "<Figure size 720x432 with 1 Axes>"
      ]
     },
     "metadata": {
      "needs_background": "light"
     },
     "output_type": "display_data"
    }
   ],
   "source": [
    "# Get the x and y values from the dictionary\n",
    "x = list(aic_list.keys())\n",
    "y = list(aic_list.values())\n",
    "\n",
    "# Create a figure with a larger size\n",
    "plt.figure(figsize=(10, 6))\n",
    "\n",
    "# Plot the line\n",
    "plt.plot(x, y)\n",
    "\n",
    "# Add labels and title to the plot\n",
    "plt.xlabel(\"Variables\")\n",
    "plt.ylabel(\"Values\")\n",
    "plt.title(\"AIC backward analysis\")\n",
    "\n",
    "# Rotate the x-axis labels\n",
    "plt.xticks(rotation=90)\n",
    "\n",
    "# Adjust the layout parameters to avoid cutting off the labels\n",
    "plt.tight_layout()\n",
    "\n",
    "# Save the plot\n",
    "plt.savefig('elbow_curve.png', dpi=200)\n",
    "\n",
    "# Show the plot\n",
    "plt.show()\n"
   ]
  },
  {
   "cell_type": "markdown",
   "id": "c7bf412a",
   "metadata": {},
   "source": [
    "# Final model"
   ]
  },
  {
   "cell_type": "markdown",
   "id": "d8070b7f",
   "metadata": {},
   "source": [
    "### Model no duplicates"
   ]
  },
  {
   "cell_type": "code",
   "execution_count": 77,
   "id": "e7f3149d",
   "metadata": {},
   "outputs": [],
   "source": [
    "df_ft_no_dupes = df_ft.drop(columns = ['id', 'diabetes_mellitus', 'dyslipidemia']).drop_duplicates()"
   ]
  },
  {
   "cell_type": "code",
   "execution_count": 78,
   "id": "c63c5a76",
   "metadata": {},
   "outputs": [
    {
     "name": "stdout",
     "output_type": "stream",
     "text": [
      "Final score: 0.7547682709447415\n"
     ]
    }
   ],
   "source": [
    "# define the predictor variables and the outcome variable\n",
    "y = df_ft_no_dupes['VTE']\n",
    "X = df_ft_no_dupes.drop(columns=['VTE'])\n",
    "\n",
    "# Train a logistic regression model\n",
    "model = LogisticRegression()\n",
    "model.fit(X, y)\n",
    "\n",
    "# Compute the AUC-ROC score for the observed data\n",
    "y_pred = model.predict_proba(X)[:,1]\n",
    "auc = roc_auc_score(y, y_pred)\n",
    "print(\"Final score:\", auc)"
   ]
  },
  {
   "cell_type": "markdown",
   "id": "bf8c3b82",
   "metadata": {},
   "source": [
    "### Model duplicates"
   ]
  },
  {
   "cell_type": "code",
   "execution_count": 79,
   "id": "eaa48cd2",
   "metadata": {},
   "outputs": [
    {
     "name": "stdout",
     "output_type": "stream",
     "text": [
      "Final score: 0.766189638631276\n"
     ]
    }
   ],
   "source": [
    "# define the predictor variables and the outcome variable\n",
    "y_dupes = df_ft['VTE']\n",
    "X_dupes = df_ft.drop(columns=['VTE', 'id', 'diabetes_mellitus', 'dyslipidemia'])\n",
    "\n",
    "# Train a logistic regression model\n",
    "model_dupes = LogisticRegression()\n",
    "model_dupes.fit(X_dupes, y_dupes)\n",
    "\n",
    "# Compute the AUC-ROC score for the observed data\n",
    "y_pred = model_dupes.predict_proba(X_dupes)[:,1]\n",
    "auc = roc_auc_score(y_dupes, y_pred)\n",
    "print(\"Final score:\", auc)"
   ]
  },
  {
   "cell_type": "code",
   "execution_count": 80,
   "id": "f635b523",
   "metadata": {},
   "outputs": [],
   "source": [
    "roc_curve_onco = pd.read_csv('no_dups_roc_curve_oncothromb_score_replicated.csv')\n",
    "pr_curve_onco = pd.read_csv('no_dups_pr_curve_oncothromb_score_replicated.csv')\n",
    "roc_curve_orig = pd.read_csv('mean_roc_curve_from_cv_oncothromb.csv')\n",
    "prc_curve_orig = pd.read_csv('pr_curve_oncothromb_score_replicated.csv')"
   ]
  },
  {
   "cell_type": "code",
   "execution_count": 81,
   "id": "d8599a94",
   "metadata": {},
   "outputs": [
    {
     "data": {
      "image/png": "[encoded data removed]",
      "text/plain": [
       "<Figure size 432x288 with 1 Axes>"
      ]
     },
     "metadata": {
      "needs_background": "light"
     },
     "output_type": "display_data"
    }
   ],
   "source": [
    "from sklearn.metrics import roc_curve, auc\n",
    "\n",
    "# Calculate the false positive rate, true positive rate, and threshold values for the ROC curve\n",
    "fpr, tpr, thresholds = roc_curve(y,model.predict_proba(X)[:,1])\n",
    "fpr_2, tpr_2, thresholds = roc_curve(y_dupes,model_dupes.predict_proba(X_dupes)[:,1])\n",
    "\n",
    "\n",
    "# Calculate the AUC value\n",
    "auc_value = auc(fpr, tpr)\n",
    "auc_value_2 = auc(fpr_2, tpr_2)\n",
    "\n",
    "auc_value_3 = auc(roc_curve_onco['fpr_points'], roc_curve_onco['mean_tpr'])\n",
    "auc_value_4 = auc(roc_curve_orig['fpr_points'], roc_curve_orig['mean_tpr'])\n",
    "\n",
    "# Plot the ROC curve and add the AUC value to the plot\n",
    "plt.plot(fpr, tpr, label='ROC curve of our reproduction with no duplicates (AUC = %0.2f)' % auc_value)\n",
    "plt.plot(fpr_2, tpr_2, label='ROC curve of our reproduction with duplicates (AUC = %0.2f)' % auc_value_2)\n",
    "\n",
    "plt.plot(roc_curve_onco['fpr_points'], roc_curve_onco['mean_tpr'], label='Oncothromb no duplicates (AUC = %0.2f)' % auc_value_3)\n",
    "plt.plot(roc_curve_orig['fpr_points'], roc_curve_orig['mean_tpr'],color='black', label='Oncothromb with duplicates (AUC = %0.2f)' % auc_value_4)\n",
    "\n",
    "plt.plot([0, 1], [0, 1], 'k--', label='Random guess')\n",
    "plt.xlabel('False positive rate')\n",
    "plt.ylabel('True positive rate')\n",
    "plt.title('Logistic Regression')\n",
    "plt.legend(loc='lower right', fontsize='small')\n",
    "# Save figure with higher DPI\n",
    "#plt.savefig('ROC_curve_reproduction.png', dpi=300)\n",
    "plt.show()\n"
   ]
  },
  {
   "cell_type": "code",
   "execution_count": 82,
   "id": "685ec897",
   "metadata": {},
   "outputs": [
    {
     "data": {
      "image/png": "[encoded data removed]",
      "text/plain": [
       "<Figure size 432x288 with 1 Axes>"
      ]
     },
     "metadata": {
      "needs_background": "light"
     },
     "output_type": "display_data"
    }
   ],
   "source": [
    "from sklearn.metrics import precision_recall_curve\n",
    "import matplotlib.pyplot as plt\n",
    "\n",
    "# Get precision, recall, and threshold values for test data\n",
    "precision, recall, threshold = precision_recall_curve(y, model.predict_proba(X)[:, 1])\n",
    "precision_2, recall_2, threshold = precision_recall_curve(y_dupes, model.predict_proba(X_dupes)[:, 1])\n",
    "\n",
    "\n",
    "# Create a new figure and axis object\n",
    "fig, ax = plt.subplots()\n",
    "\n",
    "ap = auc(pr_curve_onco.recall_points, pr_curve_onco.mean_precision)\n",
    "ap_2 = auc(recall, precision)\n",
    "ap_3 = auc(recall_2, precision_2)\n",
    "ap_4 = auc(prc_curve_orig.recall, prc_curve_orig.precision)\n",
    "\n",
    "\n",
    "# Plot the test data Precision-Recall curve\n",
    "ax.plot(recall, precision, label='PRC curve of our approach no duplicates (AP = %0.2f)' % ap_2)\n",
    "ax.plot(recall_2, precision_2, label='PRC curve of our approach with duplicates (AP = %0.2f)' % ap_3)\n",
    "\n",
    "ax.plot(pr_curve_onco.recall_points, pr_curve_onco.mean_precision, label='Oncothromb no duplicates (AP = %0.2f)' % ap)\n",
    "ax.plot(prc_curve_orig.recall, prc_curve_orig.precision,color='black', label='Oncothromb with duplicates (AP = %0.2f)' % ap_4)\n",
    "\n",
    "# Set the x and y axis labels, title, and legend\n",
    "ax.set_xlabel(\"Recall\")\n",
    "ax.set_ylabel(\"Precision\")\n",
    "ax.set_title(\"Comparison of 2-class Precision-Recall curves\")\n",
    "plt.legend(loc='best', fontsize='small')\n",
    "\n",
    "# Save the figure and show it\n",
    "# plt.savefig('PRC_curve_reproduction.png', dpi=300)\n",
    "plt.show()\n"
   ]
  }
 ],
 "metadata": {
  "kernelspec": {
   "display_name": "Python 3 (ipykernel)",
   "language": "python",
   "name": "python3"
  },
  "language_info": {
   "codemirror_mode": {
    "name": "ipython",
    "version": 3
   },
   "file_extension": ".py",
   "mimetype": "text/x-python",
   "name": "python",
   "nbconvert_exporter": "python",
   "pygments_lexer": "ipython3",
   "version": "3.9.12"
  }
 },
 "nbformat": 4,
 "nbformat_minor": 5
}
