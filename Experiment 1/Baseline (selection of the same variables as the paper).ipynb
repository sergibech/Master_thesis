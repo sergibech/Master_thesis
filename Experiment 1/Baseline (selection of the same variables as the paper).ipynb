{
 "cells": [
  {
   "cell_type": "markdown",
   "id": "9984673c",
   "metadata": {},
   "source": [
    "# Baseline"
   ]
  },
  {
   "cell_type": "markdown",
   "id": "ca0e9a99",
   "metadata": {},
   "source": [
    "In this notebook we avoid doig the preprocess and we directly build the final model just selecting the same variables as the paper. This will be our baseline to compare future results."
   ]
  },
  {
   "cell_type": "code",
   "execution_count": 1,
   "id": "d70dbd06",
   "metadata": {},
   "outputs": [],
   "source": [
    "import numpy as np\n",
    "import pandas as pd\n",
    "import seaborn as sns\n",
    "import matplotlib.pyplot as plt\n",
    "import re\n",
    "from sklearn.metrics import roc_auc_score, confusion_matrix, precision_score, ConfusionMatrixDisplay"
   ]
  },
  {
   "cell_type": "code",
   "execution_count": 2,
   "id": "b9a5edfe",
   "metadata": {},
   "outputs": [],
   "source": [
    "df_alleles = pd.read_csv('oncoth1_with_n_risk_alleles.csv')"
   ]
  },
  {
   "cell_type": "code",
   "execution_count": 3,
   "id": "e8f85ceb",
   "metadata": {},
   "outputs": [],
   "source": [
    "df = pd.read_csv('development_db_score_oncothromb.csv')"
   ]
  },
  {
   "cell_type": "code",
   "execution_count": 4,
   "id": "fad2084c",
   "metadata": {},
   "outputs": [],
   "source": [
    "df_alleles['VTE'] = df['VTE'].values"
   ]
  },
  {
   "cell_type": "markdown",
   "id": "6fe0634e",
   "metadata": {},
   "source": [
    "# Compute Genetic Risk Score"
   ]
  },
  {
   "cell_type": "markdown",
   "id": "32039111",
   "metadata": {},
   "source": [
    "We compute the Genetic Risk Score with the selected features.\n",
    "A straightforward method to evaluate the GRS is to choose a number k of independent genetic variants with strong (i.e., genome-wide significance in other studies or datasets) association as risk predictors, and to calculate the GRS as the sum of the effect estimates (log odds ratios), βi, from a logistic regression analysis with additive genetic effect, multiplied by the number of risk alleles, Ni, for each locus: "
   ]
  },
  {
   "cell_type": "markdown",
   "id": "744c4353",
   "metadata": {},
   "source": [
    "The paper selects the following variables: \n",
    "- rs4524\n",
    "- rs6025\n",
    "- rs2232698\n",
    "- rs2227631\n",
    "- rs268\n",
    "- rs169713\n",
    "- rs11696364\n",
    "- rs5110\n",
    "- rs6003"
   ]
  },
  {
   "cell_type": "code",
   "execution_count": 5,
   "id": "4b42c47f",
   "metadata": {},
   "outputs": [],
   "source": [
    "gen_predictors = ['rs4524', 'rs6025', 'rs2232698', 'rs2227631', 'rs268', 'rs169713', 'rs11696364', 'rs5110','rs6003']"
   ]
  },
  {
   "cell_type": "code",
   "execution_count": 6,
   "id": "7b6e87a3",
   "metadata": {},
   "outputs": [
    {
     "data": {
      "text/html": [
       "<div>\n",
       "<style scoped>\n",
       "    .dataframe tbody tr th:only-of-type {\n",
       "        vertical-align: middle;\n",
       "    }\n",
       "\n",
       "    .dataframe tbody tr th {\n",
       "        vertical-align: top;\n",
       "    }\n",
       "\n",
       "    .dataframe thead th {\n",
       "        text-align: right;\n",
       "    }\n",
       "</style>\n",
       "<table border=\"1\" class=\"dataframe\">\n",
       "  <thead>\n",
       "    <tr style=\"text-align: right;\">\n",
       "      <th></th>\n",
       "      <th>rs4524_n_risk_alleles</th>\n",
       "      <th>rs6025_n_risk_alleles</th>\n",
       "      <th>rs2232698_n_risk_alleles</th>\n",
       "      <th>rs2227631_n_risk_alleles</th>\n",
       "      <th>rs268_n_risk_alleles</th>\n",
       "      <th>rs169713_n_risk_alleles</th>\n",
       "      <th>rs11696364_n_risk_alleles</th>\n",
       "      <th>rs5110_n_risk_alleles</th>\n",
       "      <th>rs6003_n_risk_alleles</th>\n",
       "      <th>VTE</th>\n",
       "      <th>id</th>\n",
       "    </tr>\n",
       "  </thead>\n",
       "  <tbody>\n",
       "    <tr>\n",
       "      <th>0</th>\n",
       "      <td>1</td>\n",
       "      <td>0</td>\n",
       "      <td>0.0</td>\n",
       "      <td>1.0</td>\n",
       "      <td>0.0</td>\n",
       "      <td>0.0</td>\n",
       "      <td>2.0</td>\n",
       "      <td>0.0</td>\n",
       "      <td>0.0</td>\n",
       "      <td>1</td>\n",
       "      <td>1</td>\n",
       "    </tr>\n",
       "    <tr>\n",
       "      <th>1</th>\n",
       "      <td>1</td>\n",
       "      <td>0</td>\n",
       "      <td>0.0</td>\n",
       "      <td>1.0</td>\n",
       "      <td>0.0</td>\n",
       "      <td>0.0</td>\n",
       "      <td>1.0</td>\n",
       "      <td>0.0</td>\n",
       "      <td>0.0</td>\n",
       "      <td>0</td>\n",
       "      <td>2</td>\n",
       "    </tr>\n",
       "    <tr>\n",
       "      <th>2</th>\n",
       "      <td>2</td>\n",
       "      <td>0</td>\n",
       "      <td>0.0</td>\n",
       "      <td>0.0</td>\n",
       "      <td>0.0</td>\n",
       "      <td>0.0</td>\n",
       "      <td>0.0</td>\n",
       "      <td>0.0</td>\n",
       "      <td>0.0</td>\n",
       "      <td>0</td>\n",
       "      <td>3</td>\n",
       "    </tr>\n",
       "    <tr>\n",
       "      <th>3</th>\n",
       "      <td>2</td>\n",
       "      <td>0</td>\n",
       "      <td>0.0</td>\n",
       "      <td>0.0</td>\n",
       "      <td>0.0</td>\n",
       "      <td>1.0</td>\n",
       "      <td>0.0</td>\n",
       "      <td>0.0</td>\n",
       "      <td>1.0</td>\n",
       "      <td>0</td>\n",
       "      <td>4</td>\n",
       "    </tr>\n",
       "    <tr>\n",
       "      <th>4</th>\n",
       "      <td>2</td>\n",
       "      <td>0</td>\n",
       "      <td>0.0</td>\n",
       "      <td>1.0</td>\n",
       "      <td>0.0</td>\n",
       "      <td>0.0</td>\n",
       "      <td>0.0</td>\n",
       "      <td>0.0</td>\n",
       "      <td>0.0</td>\n",
       "      <td>0</td>\n",
       "      <td>5</td>\n",
       "    </tr>\n",
       "  </tbody>\n",
       "</table>\n",
       "</div>"
      ],
      "text/plain": [
       "   rs4524_n_risk_alleles  rs6025_n_risk_alleles  rs2232698_n_risk_alleles  \\\n",
       "0                      1                      0                       0.0   \n",
       "1                      1                      0                       0.0   \n",
       "2                      2                      0                       0.0   \n",
       "3                      2                      0                       0.0   \n",
       "4                      2                      0                       0.0   \n",
       "\n",
       "   rs2227631_n_risk_alleles  rs268_n_risk_alleles  rs169713_n_risk_alleles  \\\n",
       "0                       1.0                   0.0                      0.0   \n",
       "1                       1.0                   0.0                      0.0   \n",
       "2                       0.0                   0.0                      0.0   \n",
       "3                       0.0                   0.0                      1.0   \n",
       "4                       1.0                   0.0                      0.0   \n",
       "\n",
       "   rs11696364_n_risk_alleles  rs5110_n_risk_alleles  rs6003_n_risk_alleles  \\\n",
       "0                        2.0                    0.0                    0.0   \n",
       "1                        1.0                    0.0                    0.0   \n",
       "2                        0.0                    0.0                    0.0   \n",
       "3                        0.0                    0.0                    1.0   \n",
       "4                        0.0                    0.0                    0.0   \n",
       "\n",
       "   VTE  id  \n",
       "0    1   1  \n",
       "1    0   2  \n",
       "2    0   3  \n",
       "3    0   4  \n",
       "4    0   5  "
      ]
     },
     "execution_count": 6,
     "metadata": {},
     "output_type": "execute_result"
    }
   ],
   "source": [
    "#Select the risk alleles of the selected features\n",
    "alleles_ = []\n",
    "for element in gen_predictors:\n",
    "    alleles_.append(element + '_n_risk_alleles')\n",
    "alleles_.append('VTE')\n",
    "alleles_.append('id')\n",
    "df_alleles = df_alleles[alleles_].dropna()\n",
    "df_alleles.head()"
   ]
  },
  {
   "cell_type": "markdown",
   "id": "fd0666b7",
   "metadata": {},
   "source": [
    "### Compute Genetic Risk Score"
   ]
  },
  {
   "cell_type": "code",
   "execution_count": 7,
   "id": "86f90372",
   "metadata": {},
   "outputs": [],
   "source": [
    "from sklearn.linear_model import LogisticRegression\n",
    "\n",
    "y = df_alleles['VTE']\n",
    "X = df_alleles.drop(columns=['VTE', 'id'])\n",
    "\n",
    "model = LogisticRegression(fit_intercept = True)\n",
    "model.fit(X, y)\n",
    "\n",
    "GRS = (model.coef_ * X).sum(axis=1) + model.intercept_\n",
    "df_alleles['GRS'] = GRS"
   ]
  },
  {
   "cell_type": "markdown",
   "id": "8e726201",
   "metadata": {},
   "source": [
    "## Clinical Variables"
   ]
  },
  {
   "cell_type": "markdown",
   "id": "8eb4726b",
   "metadata": {},
   "source": [
    "- very high risk -> stomach, pancreas\n",
    "- high risk -> lung, lymphoma, gynelocoligal, blader, testicular\n",
    "- low risk -> colorectal\n",
    "- platelet count >= 350x10^9/L -> high risk\n",
    "- leukocyte count >= 11x10^9/L -> high risk"
   ]
  },
  {
   "cell_type": "code",
   "execution_count": 9,
   "id": "cd601d3b",
   "metadata": {},
   "outputs": [],
   "source": [
    "import re\n",
    "def map_column(row, clinical_dict):\n",
    "    row = str(row)\n",
    "    for key, value in clinical_dict.items():\n",
    "        if re.match(value[0], row):\n",
    "            return key\n",
    "    return 'No Clasificado'"
   ]
  },
  {
   "cell_type": "code",
   "execution_count": 10,
   "id": "d33c6bb6",
   "metadata": {},
   "outputs": [],
   "source": [
    "def preprocess_clinical_features(df):\n",
    "    df_clin = df.iloc[:, 1:21]\n",
    "    cols_names_clin = df_clin.columns[1:]\n",
    "\n",
    "    df_clin.loc[df_clin['primary_tumor_simplified'] == 'Colorectal', 'primary_tumor_simplified'] = 0\n",
    "    df_clin.loc[df_clin['primary_tumor_simplified'] == 'NSCLC', 'primary_tumor_simplified'] = 1\n",
    "    df_clin.loc[df_clin['primary_tumor_simplified'] == 'Oesophago-gastric', 'primary_tumor_simplified'] = 2\n",
    "    df_clin.loc[df_clin['primary_tumor_simplified'] == 'Pancreatic', 'primary_tumor_simplified'] = 2\n",
    "\n",
    "    df_clin.loc[df_clin['leukocytes'] < 11000, 'leukocytes'] = 0\n",
    "    df_clin.loc[df_clin['leukocytes'] >= 11000, 'leukocytes'] = 1\n",
    "    df_clin.loc[df_clin['platelets'] < 350000, 'platelets'] = 0\n",
    "    df_clin.loc[df_clin['platelets'] >= 350000, 'platelets'] = 1\n",
    "\n",
    "    bmi_risk = {\n",
    "        1: [r\"(Obese: BMI > 30 kg/m2)|( Overweight: BMI ~25-29.9 Kg/m2)\"],\n",
    "        0: [r\"(Normal: BMI ~ 18.5-24.9 Kg/m2)|(Underweight: BMI < 18.5 Kg/m2)\"],\n",
    "    }\n",
    "\n",
    "    tnm_stage_detailed_risk = {\n",
    "        1: [r\"(IA)|(IB)\"],\n",
    "        2: [r\"(IIB)|(IIA)|(IIC)\"],\n",
    "        3: [r\"(III)|(IIIB)|(IIIA)|(IIIC)\"],\n",
    "        4: [r\"(IVB)|(IVA)|(IV)\"],\n",
    "    }\n",
    "\n",
    "\n",
    "    df_clin['bmi_category'] = df_clin['bmi_category'].apply(lambda x: map_column(x, bmi_risk))\n",
    "    df_clin['tnm_stage_detailed'] = df_clin['tnm_stage_detailed'].apply(lambda x: map_column(x, tnm_stage_detailed_risk))\n",
    "\n",
    "    return df_clin"
   ]
  },
  {
   "cell_type": "code",
   "execution_count": 11,
   "id": "b69f2587",
   "metadata": {},
   "outputs": [],
   "source": [
    "df_clin = preprocess_clinical_features(df)"
   ]
  },
  {
   "cell_type": "markdown",
   "id": "332a548c",
   "metadata": {},
   "source": [
    "### Get the clinical variables following the paper (without p-value selection )"
   ]
  },
  {
   "cell_type": "code",
   "execution_count": 12,
   "id": "797abf2a",
   "metadata": {},
   "outputs": [],
   "source": [
    "# Drop the variables that are not mentioned in the paper\n",
    "df_clin = df_clin.drop(['pregnancy', 'oral_contraceptives', 'hemoglobin'], axis=1)\n",
    "df_clin['id'] = df['id'].values"
   ]
  },
  {
   "cell_type": "markdown",
   "id": "4f0ff7fe",
   "metadata": {},
   "source": [
    "Select the same predictors as the paper"
   ]
  },
  {
   "cell_type": "code",
   "execution_count": 13,
   "id": "0052e17f",
   "metadata": {},
   "outputs": [],
   "source": [
    "clin_predictors = ['tnm_stage_detailed', 'bmi_category', 'primary_tumor_simplified', 'id', 'VTE']\n",
    "df_clin = df_clin[clin_predictors]"
   ]
  },
  {
   "cell_type": "code",
   "execution_count": 14,
   "id": "887589cc",
   "metadata": {},
   "outputs": [],
   "source": [
    "pred = ['id', 'GRS', 'VTE']\n",
    "predictors = df_alleles[pred]"
   ]
  },
  {
   "cell_type": "code",
   "execution_count": 15,
   "id": "420da2ac",
   "metadata": {},
   "outputs": [
    {
     "data": {
      "text/html": [
       "<div>\n",
       "<style scoped>\n",
       "    .dataframe tbody tr th:only-of-type {\n",
       "        vertical-align: middle;\n",
       "    }\n",
       "\n",
       "    .dataframe tbody tr th {\n",
       "        vertical-align: top;\n",
       "    }\n",
       "\n",
       "    .dataframe thead th {\n",
       "        text-align: right;\n",
       "    }\n",
       "</style>\n",
       "<table border=\"1\" class=\"dataframe\">\n",
       "  <thead>\n",
       "    <tr style=\"text-align: right;\">\n",
       "      <th></th>\n",
       "      <th>id</th>\n",
       "      <th>GRS</th>\n",
       "      <th>VTE</th>\n",
       "      <th>tnm_stage_detailed</th>\n",
       "      <th>bmi_category</th>\n",
       "      <th>primary_tumor_simplified</th>\n",
       "    </tr>\n",
       "  </thead>\n",
       "  <tbody>\n",
       "    <tr>\n",
       "      <th>0</th>\n",
       "      <td>1</td>\n",
       "      <td>-0.309952</td>\n",
       "      <td>1</td>\n",
       "      <td>4</td>\n",
       "      <td>1</td>\n",
       "      <td>2</td>\n",
       "    </tr>\n",
       "    <tr>\n",
       "      <th>1</th>\n",
       "      <td>2</td>\n",
       "      <td>-1.015882</td>\n",
       "      <td>0</td>\n",
       "      <td>2</td>\n",
       "      <td>0</td>\n",
       "      <td>2</td>\n",
       "    </tr>\n",
       "    <tr>\n",
       "      <th>2</th>\n",
       "      <td>3</td>\n",
       "      <td>-0.994715</td>\n",
       "      <td>0</td>\n",
       "      <td>3</td>\n",
       "      <td>1</td>\n",
       "      <td>2</td>\n",
       "    </tr>\n",
       "    <tr>\n",
       "      <th>3</th>\n",
       "      <td>4</td>\n",
       "      <td>-2.016533</td>\n",
       "      <td>0</td>\n",
       "      <td>2</td>\n",
       "      <td>0</td>\n",
       "      <td>2</td>\n",
       "    </tr>\n",
       "    <tr>\n",
       "      <th>4</th>\n",
       "      <td>5</td>\n",
       "      <td>-1.283673</td>\n",
       "      <td>0</td>\n",
       "      <td>1</td>\n",
       "      <td>0</td>\n",
       "      <td>2</td>\n",
       "    </tr>\n",
       "  </tbody>\n",
       "</table>\n",
       "</div>"
      ],
      "text/plain": [
       "   id       GRS  VTE  tnm_stage_detailed  bmi_category  \\\n",
       "0   1 -0.309952    1                   4             1   \n",
       "1   2 -1.015882    0                   2             0   \n",
       "2   3 -0.994715    0                   3             1   \n",
       "3   4 -2.016533    0                   2             0   \n",
       "4   5 -1.283673    0                   1             0   \n",
       "\n",
       "  primary_tumor_simplified  \n",
       "0                        2  \n",
       "1                        2  \n",
       "2                        2  \n",
       "3                        2  \n",
       "4                        2  "
      ]
     },
     "execution_count": 15,
     "metadata": {},
     "output_type": "execute_result"
    }
   ],
   "source": [
    "df_ft = predictors.merge(df_clin, on=['id','VTE'])\n",
    "df_ft.head()"
   ]
  },
  {
   "cell_type": "code",
   "execution_count": 16,
   "id": "02b6eaa0",
   "metadata": {},
   "outputs": [],
   "source": [
    "df = df_ft.drop(['id'],axis=1)"
   ]
  },
  {
   "cell_type": "markdown",
   "id": "20f5bcc1",
   "metadata": {},
   "source": [
    "### Train the final model"
   ]
  },
  {
   "cell_type": "code",
   "execution_count": 19,
   "id": "a591b538",
   "metadata": {},
   "outputs": [
    {
     "name": "stdout",
     "output_type": "stream",
     "text": [
      "0.6599147121535182\n"
     ]
    }
   ],
   "source": [
    "y = df_ft['VTE'].values\n",
    "X = df_ft.drop(['VTE', 'id'], axis=1)\n",
    "# Train a logistic regression model\n",
    "model = LogisticRegression()\n",
    "model.fit(X, y)\n",
    "# Compute the AUC-ROC score for the observed data\n",
    "y_pred =  (model.predict_proba(X)[:,1] >= 0.3).astype(bool) \n",
    "auc_obs = roc_auc_score(y, y_pred)\n",
    "print(auc_obs)"
   ]
  },
  {
   "cell_type": "markdown",
   "id": "fc59018a",
   "metadata": {},
   "source": [
    "Compute evaluation metrics"
   ]
  },
  {
   "cell_type": "code",
   "execution_count": 20,
   "id": "e700aabf",
   "metadata": {},
   "outputs": [
    {
     "data": {
      "image/png": "[encoded data removed]",
      "text/plain": [
       "<Figure size 432x288 with 2 Axes>"
      ]
     },
     "metadata": {
      "needs_background": "light"
     },
     "output_type": "display_data"
    },
    {
     "name": "stdout",
     "output_type": "stream",
     "text": [
      "Specificity: 0.8571428571428571\n",
      "Sensitivity (Recall): 0.4626865671641791\n",
      "Positive Likelihood Ratio: 3.2388059701492526\n",
      "Negative Likelihood Ratio: 0.6268656716417911\n",
      "Positive Predictive Value (Precision): 0.4246575342465753\n",
      "Negative Predictive Value: 0.875\n"
     ]
    }
   ],
   "source": [
    "# Compute confusion matrix\n",
    "cm = confusion_matrix(y, np.round(y_pred))\n",
    "disp = ConfusionMatrixDisplay(confusion_matrix=cm,display_labels=model.classes_)\n",
    "disp.plot()\n",
    "plt.show()\n",
    "\n",
    "# Extract TP, TN, FP, and FN\n",
    "tn, fp, fn, tp = cm.ravel()\n",
    "\n",
    "# Compute specificity, sensitivity, positive likelihood ratio, negative likelihood ratio, positive predictive value, and negative predictive value\n",
    "specificity = tn / (tn + fp)\n",
    "sensitivity = recall = tp / (tp + fn)\n",
    "positive_likelihood_ratio = sensitivity / (1 - specificity)\n",
    "negative_likelihood_ratio = (1 - sensitivity) / specificity\n",
    "ppv =precision_score(y, np.round(y_pred))\n",
    "npv = tn / (tn + fn)\n",
    "\n",
    "print(\"Specificity:\", specificity)\n",
    "print(\"Sensitivity (Recall):\", sensitivity)\n",
    "print(\"Positive Likelihood Ratio:\", positive_likelihood_ratio)\n",
    "print(\"Negative Likelihood Ratio:\", negative_likelihood_ratio)\n",
    "print(\"Positive Predictive Value (Precision):\", ppv)\n",
    "print(\"Negative Predictive Value:\", npv)\n"
   ]
  },
  {
   "cell_type": "code",
   "execution_count": 21,
   "id": "eab3da34",
   "metadata": {},
   "outputs": [
    {
     "data": {
      "image/png": "[encoded data removed]",
      "text/plain": [
       "<Figure size 432x288 with 1 Axes>"
      ]
     },
     "metadata": {
      "needs_background": "light"
     },
     "output_type": "display_data"
    }
   ],
   "source": [
    "from sklearn.metrics import PrecisionRecallDisplay\n",
    "\n",
    "display = PrecisionRecallDisplay.from_estimator(\n",
    "    model, X, y, name=\"LogisticRegression\"\n",
    ")\n",
    "_ = display.ax_.set_title(\"2-class Precision-Recall curve\")"
   ]
  }
 ],
 "metadata": {
  "kernelspec": {
   "display_name": "Python 3 (ipykernel)",
   "language": "python",
   "name": "python3"
  },
  "language_info": {
   "codemirror_mode": {
    "name": "ipython",
    "version": 3
   },
   "file_extension": ".py",
   "mimetype": "text/x-python",
   "name": "python",
   "nbconvert_exporter": "python",
   "pygments_lexer": "ipython3",
   "version": "3.9.12"
  }
 },
 "nbformat": 4,
 "nbformat_minor": 5
}
